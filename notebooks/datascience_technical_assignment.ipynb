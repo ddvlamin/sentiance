{
 "cells": [
  {
   "cell_type": "markdown",
   "metadata": {},
   "source": [
    "# 1. Introduction"
   ]
  },
  {
   "cell_type": "markdown",
   "metadata": {},
   "source": [
    "## Guidelines\n",
    "Please complete the assignment inside this notebook. Make sure the code can be executed easily.\n",
    "\n",
    "- Write production-ready code using OOP when relevant.\n",
    "- For question 1, create simple unit tests for your code where applicable.\n",
    "- For question 1, add comments and documentation strings for all methods. \n",
    "- Discuss your design choices.\n",
    "- For question 1 and 2, discuss the complexity (Big O notation) of your solutions, both memory wise and performance wise.\n",
    "- For question3, provide map visualization when relevant\n",
    "- Try to stick to the most popular scientific Python libraries.\n",
    "- Provide us with the instructions needed to run your code (e.g. requirements.txt, setup.py). Ideally, a simple virtualenv build and a `pip install` will do the trick."
   ]
  },
  {
   "cell_type": "code",
   "execution_count": null,
   "metadata": {},
   "outputs": [],
   "source": []
  },
  {
   "cell_type": "markdown",
   "metadata": {},
   "source": [
    "## Input data for question 1 and 2\n",
    "You should have received three csv files. Each csv-file represents the locations where a person was stationary for a certain amount of time. \n",
    "The csv-files contain the following fields:\n",
    "\n",
    "- Latitude: The latitude of the detected GPS coordinates Longitude: The longitude of the detected GPS coordinates\n",
    "- Timestamp: The start time of the stationary in the following format:\n",
    "    - YYYY = year\n",
    "    - MM = month of year\n",
    "    - dd = day of month\n",
    "    - HH=hourofday\n",
    "    - mm = minute of hour\n",
    "    - Z = timezone offset\n",
    "- Duration: The length of time the person was stationary (in milliseconds)\n",
    "    \n",
    "All questions in this assignment are related to this data."
   ]
  },
  {
   "cell_type": "code",
   "execution_count": 2,
   "metadata": {
    "collapsed": true
   },
   "outputs": [],
   "source": [
    "# import statements go here."
   ]
  },
  {
   "cell_type": "markdown",
   "metadata": {},
   "source": [
    "## Question 1: Data lookup\n",
    "Create a method that generates a lookup table allowing us to effiently check whether or not a user has ever visited a location even if the new location is not exactly the same as the visited location (some noise is added to the longitude/latitude pairs)."
   ]
  },
  {
   "cell_type": "code",
   "execution_count": null,
   "metadata": {
    "collapsed": true
   },
   "outputs": [],
   "source": []
  },
  {
   "cell_type": "markdown",
   "metadata": {},
   "source": [
    "## Question 2: Home and work detection\n",
    "The goal of this question, is to design an unsupervised algorithm that allows one to distinguish the likely home locations of a user from his likely work locations.\n",
    "\n",
    "Note that a person might have multiple home and work locations, or might not have a work location at all. Also note that some data points might be noisy, incorrect and/or incomplete.\n",
    "\n",
    "Discuss your choice of algorithms, rules, methods, distance measures, etc."
   ]
  },
  {
   "cell_type": "code",
   "execution_count": null,
   "metadata": {
    "collapsed": true
   },
   "outputs": [],
   "source": []
  },
  {
   "cell_type": "markdown",
   "metadata": {},
   "source": [
    "## Question 3: Activity classification\n",
    "\n",
    "The goal of this question is to design a very simple linear classifier based on mobile accelerometer sensor to discriminate between car and walking movements and implement it on device. The pipeline consists of data collection, feature extraction, and inference on short sensor segments.\n",
    "\n",
    "The dataset for question 3 is very limited on purpose.  sensors.csv consists of one-minute segments, 10 for each class.  An accelerometer reading of a segment i has three acceleration axes called seg_i_x, seg_i_y, seg_i_z and one time axis called seg_i_taxis. The time axis is given in nanosecond since epoch. labels.csv allow the mapping between segment id and the corresponding label (0 for one class, 1 for the other)\n",
    "\n",
    "The goal is to show your understanding of the problem, your way of reasoning, and your mobile programming skills. As the dataset is very limited, we don’t expect you to design an algorithm that will generalize efficiently.  \n",
    "\n",
    "1. Can you visualize the data and use it to intuitively deduce what label corresponds to walking and what label to car? Why?\n",
    "2. What is the sampling rate of the signals? In order to denoise them, low pass filter was applied. What was, more or less, the cut-off frequency of the filter?\n",
    "3. After a statistical analysis of the signals, define 2 features to compute per sensor segment that will allow an algorithm to discriminate between the two classes. \n",
    "4. Train a simple 2-dimensional linear classifier (threshold function) on that dataset. Use the entire dataset for training; no need to use a validation or testing set.\n",
    "5. Plot the two clusters on a 2-dimensional plane with the corresponding decision function.\n",
    "\n",
    "Note: Acceleration units and conventions are different between iOS and Android. Take it into account if you port the pipeline on iOS as the training dataset has been collected on Android  \n",
    "\n"
   ]
  },
  {
   "cell_type": "code",
   "execution_count": null,
   "metadata": {},
   "outputs": [],
   "source": []
  }
 ],
 "metadata": {
  "kernelspec": {
   "display_name": "Python 3",
   "language": "python",
   "name": "python3"
  },
  "language_info": {
   "codemirror_mode": {
    "name": "ipython",
    "version": 3
   },
   "file_extension": ".py",
   "mimetype": "text/x-python",
   "name": "python",
   "nbconvert_exporter": "python",
   "pygments_lexer": "ipython3",
   "version": "3.8.2"
  }
 },
 "nbformat": 4,
 "nbformat_minor": 1
}
