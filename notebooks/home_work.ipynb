{
 "cells": [
  {
   "cell_type": "markdown",
   "metadata": {},
   "source": [
    "Monday=0, Sunday=6"
   ]
  },
  {
   "cell_type": "code",
   "execution_count": 66,
   "metadata": {},
   "outputs": [],
   "source": [
    "from collections import Counter\n",
    "\n",
    "import pandas as pd\n",
    "import numpy as np\n",
    "\n",
    "import plotly.offline as py\n",
    "from plotly.subplots import make_subplots\n",
    "import plotly.graph_objs as go\n",
    "import plotly.express as px\n",
    "\n",
    "from sentiance.location import Location, decode_geohash"
   ]
  },
  {
   "cell_type": "code",
   "execution_count": 67,
   "metadata": {},
   "outputs": [
    {
     "data": {
      "text/plain": [
       "(152.6178855895996, 0.0006866455078125)"
      ]
     },
     "execution_count": 67,
     "metadata": {},
     "output_type": "execute_result"
    }
   ],
   "source": [
    "Location(50.951220, 4.889917, 34).lat_accuracy()"
   ]
  },
  {
   "cell_type": "code",
   "execution_count": 68,
   "metadata": {},
   "outputs": [],
   "source": [
    "NBITS = 30"
   ]
  },
  {
   "cell_type": "code",
   "execution_count": 69,
   "metadata": {},
   "outputs": [],
   "source": [
    "filepath = \"../data/Copy of person.3.csv\"\n",
    "df = pd.read_csv(filepath,sep=\";\").rename(columns={\n",
    "    \"start_time(YYYYMMddHHmmZ)\":\"start_time\",\n",
    "    \"duration(ms)\": \"duration\"})"
   ]
  },
  {
   "cell_type": "code",
   "execution_count": 70,
   "metadata": {},
   "outputs": [],
   "source": [
    "df['start_time'] = pd.to_datetime(df['start_time'], format='%Y%m%d%H%M%z')"
   ]
  },
  {
   "cell_type": "code",
   "execution_count": 71,
   "metadata": {},
   "outputs": [],
   "source": [
    "df[\"date\"] = df['start_time'].apply(lambda x: x.date())"
   ]
  },
  {
   "cell_type": "code",
   "execution_count": 72,
   "metadata": {},
   "outputs": [],
   "source": [
    "df[\"dayofweek\"] = df['start_time'].apply(lambda x: x.dayofweek)"
   ]
  },
  {
   "cell_type": "code",
   "execution_count": 73,
   "metadata": {},
   "outputs": [],
   "source": [
    "df[\"hourofday\"] = df['start_time'].apply(lambda x: x.hour)"
   ]
  },
  {
   "cell_type": "code",
   "execution_count": 74,
   "metadata": {},
   "outputs": [],
   "source": [
    "df[\"hour_duration\"] = df['duration'].apply(lambda x: x/(3600000))"
   ]
  },
  {
   "cell_type": "code",
   "execution_count": 75,
   "metadata": {},
   "outputs": [],
   "source": [
    "def compute_geohash(row, nbits=NBITS):\n",
    "    loc = Location(row[\"latitude\"], row[\"longitude\"], nbits)\n",
    "    #print(loc.lat_accuracy()[0], loc.long_accuracy()[0])\n",
    "    return loc.encode()\n",
    "    \n",
    "df[\"geohash\"] = df.apply(compute_geohash, axis=1)"
   ]
  },
  {
   "cell_type": "code",
   "execution_count": 76,
   "metadata": {},
   "outputs": [],
   "source": [
    "#min_dt, max_dt = df[\"start_time\"].min().to_pydatetime(), df[\"start_time\"].max().to_pydatetime()\n",
    "weekday_counter = Counter()\n",
    "unique_days = df[\"date\"].unique()\n",
    "n_unique_days = len(unique_days)\n",
    "for dt in unique_days:\n",
    "    weekday_counter[dt.weekday()] += 1"
   ]
  },
  {
   "cell_type": "code",
   "execution_count": 77,
   "metadata": {},
   "outputs": [],
   "source": [
    "#df[\"day_frequency\"] = 0\n",
    "#df[\"mean_duration\"] = 0\n",
    "\n",
    "MIN_DAY_DENSITY = 0.5\n",
    "MIN_DURATION = 1\n",
    "MAX_DIST = 500\n",
    "\n",
    "hash_df = []\n",
    "for geohash, group in df.groupby(\"geohash\"):\n",
    "    record = {\n",
    "        \"geohash\": geohash,\n",
    "        \"day_frequency\": len(group[\"date\"].unique())/n_unique_days,\n",
    "        \"mean_duration\": group[\"hour_duration\"].mean(),\n",
    "        \"mean_starthour\": group[\"hourofday\"].mean(),\n",
    "        \"mean_lat\": group[\"latitude\"].mean(),\n",
    "        \"mean_lng\": group[\"longitude\"].mean()\n",
    "    }\n",
    "    \n",
    "    week_hist = Counter()\n",
    "    for date, g in group.groupby(\"date\"):\n",
    "        try:\n",
    "            weekday = date.weekday()\n",
    "        except AttributeError:\n",
    "            print(group)\n",
    "        week_hist[weekday] += 1/weekday_counter[weekday]\n",
    "          \n",
    "    record[\"number_of_days\"] = len([day for day, density in week_hist.items() if density>MIN_DAY_DENSITY])\n",
    "    \n",
    "    hash_df.append(record)\n",
    "\n",
    "hash_df = pd.DataFrame(hash_df)"
   ]
  },
  {
   "cell_type": "code",
   "execution_count": 89,
   "metadata": {},
   "outputs": [
    {
     "name": "stdout",
     "output_type": "stream",
     "text": [
      "0.23030303030303026\n"
     ]
    }
   ],
   "source": [
    "mean_frequency = np.mean(hash_df[\"day_frequency\"].unique())\n",
    "print(mean_frequency)\n",
    "filtered_df = hash_df[(hash_df[\"mean_duration\"]>=MIN_DURATION) & (hash_df[\"day_frequency\"]>mean_frequency)]"
   ]
  },
  {
   "cell_type": "code",
   "execution_count": 90,
   "metadata": {},
   "outputs": [
    {
     "data": {
      "text/html": [
       "<div>\n",
       "<style scoped>\n",
       "    .dataframe tbody tr th:only-of-type {\n",
       "        vertical-align: middle;\n",
       "    }\n",
       "\n",
       "    .dataframe tbody tr th {\n",
       "        vertical-align: top;\n",
       "    }\n",
       "\n",
       "    .dataframe thead th {\n",
       "        text-align: right;\n",
       "    }\n",
       "</style>\n",
       "<table border=\"1\" class=\"dataframe\">\n",
       "  <thead>\n",
       "    <tr style=\"text-align: right;\">\n",
       "      <th></th>\n",
       "      <th>geohash</th>\n",
       "      <th>day_frequency</th>\n",
       "      <th>mean_duration</th>\n",
       "      <th>mean_starthour</th>\n",
       "      <th>mean_lat</th>\n",
       "      <th>mean_lng</th>\n",
       "      <th>number_of_days</th>\n",
       "    </tr>\n",
       "  </thead>\n",
       "  <tbody>\n",
       "    <tr>\n",
       "      <th>33</th>\n",
       "      <td>873631719</td>\n",
       "      <td>0.872727</td>\n",
       "      <td>5.652873</td>\n",
       "      <td>11.795699</td>\n",
       "      <td>50.951220</td>\n",
       "      <td>4.889917</td>\n",
       "      <td>7</td>\n",
       "    </tr>\n",
       "    <tr>\n",
       "      <th>65</th>\n",
       "      <td>873633003</td>\n",
       "      <td>0.363636</td>\n",
       "      <td>2.888783</td>\n",
       "      <td>11.733333</td>\n",
       "      <td>51.206871</td>\n",
       "      <td>4.388041</td>\n",
       "      <td>2</td>\n",
       "    </tr>\n",
       "    <tr>\n",
       "      <th>68</th>\n",
       "      <td>873633007</td>\n",
       "      <td>0.327273</td>\n",
       "      <td>5.551806</td>\n",
       "      <td>9.950000</td>\n",
       "      <td>51.216007</td>\n",
       "      <td>4.393897</td>\n",
       "      <td>0</td>\n",
       "    </tr>\n",
       "    <tr>\n",
       "      <th>77</th>\n",
       "      <td>873633364</td>\n",
       "      <td>0.472727</td>\n",
       "      <td>1.939019</td>\n",
       "      <td>14.948718</td>\n",
       "      <td>51.231156</td>\n",
       "      <td>4.403964</td>\n",
       "      <td>3</td>\n",
       "    </tr>\n",
       "  </tbody>\n",
       "</table>\n",
       "</div>"
      ],
      "text/plain": [
       "      geohash  day_frequency  mean_duration  mean_starthour   mean_lat  \\\n",
       "33  873631719       0.872727       5.652873       11.795699  50.951220   \n",
       "65  873633003       0.363636       2.888783       11.733333  51.206871   \n",
       "68  873633007       0.327273       5.551806        9.950000  51.216007   \n",
       "77  873633364       0.472727       1.939019       14.948718  51.231156   \n",
       "\n",
       "    mean_lng  number_of_days  \n",
       "33  4.889917               7  \n",
       "65  4.388041               2  \n",
       "68  4.393897               0  \n",
       "77  4.403964               3  "
      ]
     },
     "execution_count": 90,
     "metadata": {},
     "output_type": "execute_result"
    }
   ],
   "source": [
    "filtered_df"
   ]
  },
  {
   "cell_type": "code",
   "execution_count": 96,
   "metadata": {},
   "outputs": [],
   "source": [
    "distances = []\n",
    "for i in range(filtered_df.shape[0]):\n",
    "    rec1 = filtered_df.iloc[i,:].to_dict()\n",
    "    loc1 = Location(rec1[\"mean_lat\"], rec1[\"mean_lng\"], NBITS)\n",
    "    for j in range(i+1,filtered_df.shape[0]):\n",
    "        rec2 = filtered_df.iloc[j,:].to_dict()\n",
    "        loc2 = Location(rec2[\"mean_lat\"], rec2[\"mean_lng\"], NBITS)\n",
    "        dist = loc1.distance(loc2)\n",
    "        distances.append({\n",
    "            \"src\": rec1[\"geohash\"],\n",
    "            \"dst\": rec2[\"geohash\"],\n",
    "            \"dist\": dist\n",
    "        })"
   ]
  },
  {
   "cell_type": "code",
   "execution_count": 97,
   "metadata": {},
   "outputs": [
    {
     "data": {
      "text/html": [
       "<div>\n",
       "<style scoped>\n",
       "    .dataframe tbody tr th:only-of-type {\n",
       "        vertical-align: middle;\n",
       "    }\n",
       "\n",
       "    .dataframe tbody tr th {\n",
       "        vertical-align: top;\n",
       "    }\n",
       "\n",
       "    .dataframe thead th {\n",
       "        text-align: right;\n",
       "    }\n",
       "</style>\n",
       "<table border=\"1\" class=\"dataframe\">\n",
       "  <thead>\n",
       "    <tr style=\"text-align: right;\">\n",
       "      <th></th>\n",
       "      <th>src</th>\n",
       "      <th>dst</th>\n",
       "      <th>dist</th>\n",
       "    </tr>\n",
       "  </thead>\n",
       "  <tbody>\n",
       "    <tr>\n",
       "      <th>0</th>\n",
       "      <td>873631719.0</td>\n",
       "      <td>873633003.0</td>\n",
       "      <td>45.136361</td>\n",
       "    </tr>\n",
       "    <tr>\n",
       "      <th>1</th>\n",
       "      <td>873631719.0</td>\n",
       "      <td>873633007.0</td>\n",
       "      <td>45.467837</td>\n",
       "    </tr>\n",
       "    <tr>\n",
       "      <th>2</th>\n",
       "      <td>873631719.0</td>\n",
       "      <td>873633364.0</td>\n",
       "      <td>46.051493</td>\n",
       "    </tr>\n",
       "    <tr>\n",
       "      <th>3</th>\n",
       "      <td>873633003.0</td>\n",
       "      <td>873633007.0</td>\n",
       "      <td>1.094721</td>\n",
       "    </tr>\n",
       "    <tr>\n",
       "      <th>4</th>\n",
       "      <td>873633003.0</td>\n",
       "      <td>873633364.0</td>\n",
       "      <td>2.919173</td>\n",
       "    </tr>\n",
       "    <tr>\n",
       "      <th>5</th>\n",
       "      <td>873633007.0</td>\n",
       "      <td>873633364.0</td>\n",
       "      <td>1.824505</td>\n",
       "    </tr>\n",
       "  </tbody>\n",
       "</table>\n",
       "</div>"
      ],
      "text/plain": [
       "           src          dst       dist\n",
       "0  873631719.0  873633003.0  45.136361\n",
       "1  873631719.0  873633007.0  45.467837\n",
       "2  873631719.0  873633364.0  46.051493\n",
       "3  873633003.0  873633007.0   1.094721\n",
       "4  873633003.0  873633364.0   2.919173\n",
       "5  873633007.0  873633364.0   1.824505"
      ]
     },
     "execution_count": 97,
     "metadata": {},
     "output_type": "execute_result"
    }
   ],
   "source": [
    "distances = pd.DataFrame(distances)\n",
    "distances"
   ]
  },
  {
   "cell_type": "code",
   "execution_count": 98,
   "metadata": {},
   "outputs": [],
   "source": [
    "dist1 = distances[[\"dst\",\"dist\"]].rename(columns={\"dst\":\"src\"})\n",
    "dist2 = distances[[\"src\",\"dist\"]]\n",
    "distances = pd.concat((dist1,dist2), axis=0)"
   ]
  },
  {
   "cell_type": "code",
   "execution_count": 99,
   "metadata": {},
   "outputs": [
    {
     "data": {
      "text/html": [
       "<div>\n",
       "<style scoped>\n",
       "    .dataframe tbody tr th:only-of-type {\n",
       "        vertical-align: middle;\n",
       "    }\n",
       "\n",
       "    .dataframe tbody tr th {\n",
       "        vertical-align: top;\n",
       "    }\n",
       "\n",
       "    .dataframe thead th {\n",
       "        text-align: right;\n",
       "    }\n",
       "</style>\n",
       "<table border=\"1\" class=\"dataframe\">\n",
       "  <thead>\n",
       "    <tr style=\"text-align: right;\">\n",
       "      <th></th>\n",
       "      <th>src</th>\n",
       "      <th>dist</th>\n",
       "    </tr>\n",
       "  </thead>\n",
       "  <tbody>\n",
       "    <tr>\n",
       "      <th>0</th>\n",
       "      <td>873633003.0</td>\n",
       "      <td>45.136361</td>\n",
       "    </tr>\n",
       "    <tr>\n",
       "      <th>1</th>\n",
       "      <td>873633007.0</td>\n",
       "      <td>45.467837</td>\n",
       "    </tr>\n",
       "    <tr>\n",
       "      <th>2</th>\n",
       "      <td>873633364.0</td>\n",
       "      <td>46.051493</td>\n",
       "    </tr>\n",
       "    <tr>\n",
       "      <th>3</th>\n",
       "      <td>873633007.0</td>\n",
       "      <td>1.094721</td>\n",
       "    </tr>\n",
       "    <tr>\n",
       "      <th>4</th>\n",
       "      <td>873633364.0</td>\n",
       "      <td>2.919173</td>\n",
       "    </tr>\n",
       "    <tr>\n",
       "      <th>5</th>\n",
       "      <td>873633364.0</td>\n",
       "      <td>1.824505</td>\n",
       "    </tr>\n",
       "    <tr>\n",
       "      <th>0</th>\n",
       "      <td>873631719.0</td>\n",
       "      <td>45.136361</td>\n",
       "    </tr>\n",
       "    <tr>\n",
       "      <th>1</th>\n",
       "      <td>873631719.0</td>\n",
       "      <td>45.467837</td>\n",
       "    </tr>\n",
       "    <tr>\n",
       "      <th>2</th>\n",
       "      <td>873631719.0</td>\n",
       "      <td>46.051493</td>\n",
       "    </tr>\n",
       "    <tr>\n",
       "      <th>3</th>\n",
       "      <td>873633003.0</td>\n",
       "      <td>1.094721</td>\n",
       "    </tr>\n",
       "    <tr>\n",
       "      <th>4</th>\n",
       "      <td>873633003.0</td>\n",
       "      <td>2.919173</td>\n",
       "    </tr>\n",
       "    <tr>\n",
       "      <th>5</th>\n",
       "      <td>873633007.0</td>\n",
       "      <td>1.824505</td>\n",
       "    </tr>\n",
       "  </tbody>\n",
       "</table>\n",
       "</div>"
      ],
      "text/plain": [
       "           src       dist\n",
       "0  873633003.0  45.136361\n",
       "1  873633007.0  45.467837\n",
       "2  873633364.0  46.051493\n",
       "3  873633007.0   1.094721\n",
       "4  873633364.0   2.919173\n",
       "5  873633364.0   1.824505\n",
       "0  873631719.0  45.136361\n",
       "1  873631719.0  45.467837\n",
       "2  873631719.0  46.051493\n",
       "3  873633003.0   1.094721\n",
       "4  873633003.0   2.919173\n",
       "5  873633007.0   1.824505"
      ]
     },
     "execution_count": 99,
     "metadata": {},
     "output_type": "execute_result"
    }
   ],
   "source": [
    "distances"
   ]
  },
  {
   "cell_type": "code",
   "execution_count": 100,
   "metadata": {},
   "outputs": [],
   "source": [
    "distances = distances.groupby(\"src\").agg(np.mean)"
   ]
  },
  {
   "cell_type": "code",
   "execution_count": 101,
   "metadata": {},
   "outputs": [
    {
     "data": {
      "text/html": [
       "<div>\n",
       "<style scoped>\n",
       "    .dataframe tbody tr th:only-of-type {\n",
       "        vertical-align: middle;\n",
       "    }\n",
       "\n",
       "    .dataframe tbody tr th {\n",
       "        vertical-align: top;\n",
       "    }\n",
       "\n",
       "    .dataframe thead th {\n",
       "        text-align: right;\n",
       "    }\n",
       "</style>\n",
       "<table border=\"1\" class=\"dataframe\">\n",
       "  <thead>\n",
       "    <tr style=\"text-align: right;\">\n",
       "      <th></th>\n",
       "      <th>dist</th>\n",
       "    </tr>\n",
       "    <tr>\n",
       "      <th>src</th>\n",
       "      <th></th>\n",
       "    </tr>\n",
       "  </thead>\n",
       "  <tbody>\n",
       "    <tr>\n",
       "      <th>873631719.0</th>\n",
       "      <td>45.551897</td>\n",
       "    </tr>\n",
       "    <tr>\n",
       "      <th>873633003.0</th>\n",
       "      <td>16.383418</td>\n",
       "    </tr>\n",
       "    <tr>\n",
       "      <th>873633007.0</th>\n",
       "      <td>16.129021</td>\n",
       "    </tr>\n",
       "    <tr>\n",
       "      <th>873633364.0</th>\n",
       "      <td>16.931724</td>\n",
       "    </tr>\n",
       "  </tbody>\n",
       "</table>\n",
       "</div>"
      ],
      "text/plain": [
       "                  dist\n",
       "src                   \n",
       "873631719.0  45.551897\n",
       "873633003.0  16.383418\n",
       "873633007.0  16.129021\n",
       "873633364.0  16.931724"
      ]
     },
     "execution_count": 101,
     "metadata": {},
     "output_type": "execute_result"
    }
   ],
   "source": [
    "distances"
   ]
  },
  {
   "cell_type": "code",
   "execution_count": 84,
   "metadata": {},
   "outputs": [],
   "source": [
    "geohash_toremove = set(distances[distances[\"dist\"]>=MAX_DIST].index)"
   ]
  },
  {
   "cell_type": "code",
   "execution_count": 63,
   "metadata": {},
   "outputs": [],
   "source": [
    "filtered_df=filtered_df[~filtered_df[\"geohash\"].isin(geohash_toremove)]"
   ]
  },
  {
   "cell_type": "code",
   "execution_count": 64,
   "metadata": {},
   "outputs": [
    {
     "data": {
      "text/html": [
       "<div>\n",
       "<style scoped>\n",
       "    .dataframe tbody tr th:only-of-type {\n",
       "        vertical-align: middle;\n",
       "    }\n",
       "\n",
       "    .dataframe tbody tr th {\n",
       "        vertical-align: top;\n",
       "    }\n",
       "\n",
       "    .dataframe thead th {\n",
       "        text-align: right;\n",
       "    }\n",
       "</style>\n",
       "<table border=\"1\" class=\"dataframe\">\n",
       "  <thead>\n",
       "    <tr style=\"text-align: right;\">\n",
       "      <th></th>\n",
       "      <th>mean_lat</th>\n",
       "      <th>mean_lng</th>\n",
       "    </tr>\n",
       "  </thead>\n",
       "  <tbody>\n",
       "    <tr>\n",
       "      <th>33</th>\n",
       "      <td>50.95122</td>\n",
       "      <td>4.889917</td>\n",
       "    </tr>\n",
       "  </tbody>\n",
       "</table>\n",
       "</div>"
      ],
      "text/plain": [
       "    mean_lat  mean_lng\n",
       "33  50.95122  4.889917"
      ]
     },
     "execution_count": 64,
     "metadata": {},
     "output_type": "execute_result"
    }
   ],
   "source": [
    "filtered_df[filtered_df[\"number_of_days\"]>=6][[\"mean_lat\",\"mean_lng\"]]"
   ]
  },
  {
   "cell_type": "code",
   "execution_count": 65,
   "metadata": {},
   "outputs": [
    {
     "data": {
      "text/html": [
       "<div>\n",
       "<style scoped>\n",
       "    .dataframe tbody tr th:only-of-type {\n",
       "        vertical-align: middle;\n",
       "    }\n",
       "\n",
       "    .dataframe tbody tr th {\n",
       "        vertical-align: top;\n",
       "    }\n",
       "\n",
       "    .dataframe thead th {\n",
       "        text-align: right;\n",
       "    }\n",
       "</style>\n",
       "<table border=\"1\" class=\"dataframe\">\n",
       "  <thead>\n",
       "    <tr style=\"text-align: right;\">\n",
       "      <th></th>\n",
       "      <th>mean_lat</th>\n",
       "      <th>mean_lng</th>\n",
       "    </tr>\n",
       "  </thead>\n",
       "  <tbody>\n",
       "    <tr>\n",
       "      <th>65</th>\n",
       "      <td>51.206871</td>\n",
       "      <td>4.388041</td>\n",
       "    </tr>\n",
       "    <tr>\n",
       "      <th>68</th>\n",
       "      <td>51.216007</td>\n",
       "      <td>4.393897</td>\n",
       "    </tr>\n",
       "    <tr>\n",
       "      <th>77</th>\n",
       "      <td>51.231156</td>\n",
       "      <td>4.403964</td>\n",
       "    </tr>\n",
       "  </tbody>\n",
       "</table>\n",
       "</div>"
      ],
      "text/plain": [
       "     mean_lat  mean_lng\n",
       "65  51.206871  4.388041\n",
       "68  51.216007  4.393897\n",
       "77  51.231156  4.403964"
      ]
     },
     "execution_count": 65,
     "metadata": {},
     "output_type": "execute_result"
    }
   ],
   "source": [
    "filtered_df[filtered_df[\"number_of_days\"]<6][[\"mean_lat\",\"mean_lng\"]]"
   ]
  },
  {
   "cell_type": "code",
   "execution_count": null,
   "metadata": {},
   "outputs": [],
   "source": []
  }
 ],
 "metadata": {
  "kernelspec": {
   "display_name": "Python 3",
   "language": "python",
   "name": "python3"
  },
  "language_info": {
   "codemirror_mode": {
    "name": "ipython",
    "version": 3
   },
   "file_extension": ".py",
   "mimetype": "text/x-python",
   "name": "python",
   "nbconvert_exporter": "python",
   "pygments_lexer": "ipython3",
   "version": "3.8.2"
  }
 },
 "nbformat": 4,
 "nbformat_minor": 4
}
